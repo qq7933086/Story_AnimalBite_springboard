{
 "cells": [
  {
   "cell_type": "markdown",
   "metadata": {},
   "source": [
    "# Cautions: Animal bite and rabies \n",
    "# A talk to non_technical"
   ]
  },
  {
   "cell_type": "code",
   "execution_count": 1,
   "metadata": {},
   "outputs": [],
   "source": [
    "import pandas as pd\n",
    "import matplotlib.pyplot as plt\n",
    "import seaborn as sns\n",
    "import datetime\n",
    "import numpy as np\n",
    "%matplotlib inline  \n",
    "sns.set_context('talk')\n",
    "from IPython.display import Image\n"
   ]
  },
  {
   "cell_type": "markdown",
   "metadata": {},
   "source": [
    "## Introduction\n",
    "In the United States, animal bites are often reported to law enforcement (such as animal control). The main concern with an animal bite is that the animal may be rabid. This dataset includes information on over 9,000 animal bites which occurred near Louisville, Kentucky from 1985 to 2017 and includes information on whether the animal was quarantined after the bite occurred and whether that animal was rabid."
   ]
  },
  {
   "cell_type": "code",
   "execution_count": 2,
   "metadata": {
    "scrolled": true
   },
   "outputs": [
    {
     "data": {
      "text/html": [
       "<img src=\"https://elite24er.com/wp-content/uploads/2020/11/Protecting-Yourself-From-Animal-Bites-1024x536.jpg\"/>"
      ],
      "text/plain": [
       "<IPython.core.display.Image object>"
      ]
     },
     "execution_count": 2,
     "metadata": {},
     "output_type": "execute_result"
    }
   ],
   "source": [
    "Image(url = \"https://elite24er.com/wp-content/uploads/2020/11/Protecting-Yourself-From-Animal-Bites-1024x536.jpg\")"
   ]
  },
  {
   "cell_type": "markdown",
   "metadata": {},
   "source": [
    "## Goal of the study\n",
    "* Which type of animal or breed bite most?\n",
    "* Which zip code did a bad job in controlling animal bite?\n",
    "* Which bite causes highest rabies positive rate?\n"
   ]
  },
  {
   "cell_type": "markdown",
   "metadata": {},
   "source": [
    "Import data"
   ]
  },
  {
   "cell_type": "code",
   "execution_count": 3,
   "metadata": {},
   "outputs": [
    {
     "data": {
      "text/html": [
       "<div>\n",
       "<style scoped>\n",
       "    .dataframe tbody tr th:only-of-type {\n",
       "        vertical-align: middle;\n",
       "    }\n",
       "\n",
       "    .dataframe tbody tr th {\n",
       "        vertical-align: top;\n",
       "    }\n",
       "\n",
       "    .dataframe thead th {\n",
       "        text-align: right;\n",
       "    }\n",
       "</style>\n",
       "<table border=\"1\" class=\"dataframe\">\n",
       "  <thead>\n",
       "    <tr style=\"text-align: right;\">\n",
       "      <th></th>\n",
       "      <th>bite_date</th>\n",
       "      <th>SpeciesIDDesc</th>\n",
       "      <th>BreedIDDesc</th>\n",
       "      <th>GenderIDDesc</th>\n",
       "      <th>color</th>\n",
       "      <th>vaccination_yrs</th>\n",
       "      <th>vaccination_date</th>\n",
       "      <th>victim_zip</th>\n",
       "      <th>AdvIssuedYNDesc</th>\n",
       "      <th>WhereBittenIDDesc</th>\n",
       "      <th>quarantine_date</th>\n",
       "      <th>DispositionIDDesc</th>\n",
       "      <th>head_sent_date</th>\n",
       "      <th>release_date</th>\n",
       "      <th>ResultsIDDesc</th>\n",
       "    </tr>\n",
       "  </thead>\n",
       "  <tbody>\n",
       "    <tr>\n",
       "      <th>0</th>\n",
       "      <td>1985-05-05</td>\n",
       "      <td>DOG</td>\n",
       "      <td>NaN</td>\n",
       "      <td>FEMALE</td>\n",
       "      <td>LIG. BROWN</td>\n",
       "      <td>1.0</td>\n",
       "      <td>1985-06-20</td>\n",
       "      <td>40229</td>\n",
       "      <td>NO</td>\n",
       "      <td>BODY</td>\n",
       "      <td>1985-05-05</td>\n",
       "      <td>UNKNOWN</td>\n",
       "      <td>NaT</td>\n",
       "      <td>NaT</td>\n",
       "      <td>UNKNOWN</td>\n",
       "    </tr>\n",
       "    <tr>\n",
       "      <th>1</th>\n",
       "      <td>1986-02-12</td>\n",
       "      <td>DOG</td>\n",
       "      <td>NaN</td>\n",
       "      <td>UNKNOWN</td>\n",
       "      <td>BRO &amp; BLA</td>\n",
       "      <td>NaN</td>\n",
       "      <td>NaT</td>\n",
       "      <td>40218</td>\n",
       "      <td>NO</td>\n",
       "      <td>BODY</td>\n",
       "      <td>1986-02-12</td>\n",
       "      <td>UNKNOWN</td>\n",
       "      <td>NaT</td>\n",
       "      <td>NaT</td>\n",
       "      <td>UNKNOWN</td>\n",
       "    </tr>\n",
       "    <tr>\n",
       "      <th>2</th>\n",
       "      <td>1987-05-07</td>\n",
       "      <td>DOG</td>\n",
       "      <td>NaN</td>\n",
       "      <td>UNKNOWN</td>\n",
       "      <td>NaN</td>\n",
       "      <td>NaN</td>\n",
       "      <td>NaT</td>\n",
       "      <td>40219</td>\n",
       "      <td>NO</td>\n",
       "      <td>BODY</td>\n",
       "      <td>1990-05-07</td>\n",
       "      <td>UNKNOWN</td>\n",
       "      <td>NaT</td>\n",
       "      <td>NaT</td>\n",
       "      <td>UNKNOWN</td>\n",
       "    </tr>\n",
       "    <tr>\n",
       "      <th>3</th>\n",
       "      <td>1988-10-02</td>\n",
       "      <td>DOG</td>\n",
       "      <td>NaN</td>\n",
       "      <td>MALE</td>\n",
       "      <td>BLA &amp; BRO</td>\n",
       "      <td>NaN</td>\n",
       "      <td>NaT</td>\n",
       "      <td>NaN</td>\n",
       "      <td>NO</td>\n",
       "      <td>BODY</td>\n",
       "      <td>1990-10-02</td>\n",
       "      <td>UNKNOWN</td>\n",
       "      <td>NaT</td>\n",
       "      <td>NaT</td>\n",
       "      <td>UNKNOWN</td>\n",
       "    </tr>\n",
       "    <tr>\n",
       "      <th>4</th>\n",
       "      <td>1989-08-29</td>\n",
       "      <td>DOG</td>\n",
       "      <td>NaN</td>\n",
       "      <td>FEMALE</td>\n",
       "      <td>BLK-WHT</td>\n",
       "      <td>NaN</td>\n",
       "      <td>NaT</td>\n",
       "      <td>NaN</td>\n",
       "      <td>NO</td>\n",
       "      <td>BODY</td>\n",
       "      <td>NaT</td>\n",
       "      <td>UNKNOWN</td>\n",
       "      <td>NaT</td>\n",
       "      <td>NaT</td>\n",
       "      <td>UNKNOWN</td>\n",
       "    </tr>\n",
       "  </tbody>\n",
       "</table>\n",
       "</div>"
      ],
      "text/plain": [
       "   bite_date SpeciesIDDesc BreedIDDesc GenderIDDesc       color  \\\n",
       "0 1985-05-05           DOG         NaN       FEMALE  LIG. BROWN   \n",
       "1 1986-02-12           DOG         NaN      UNKNOWN   BRO & BLA   \n",
       "2 1987-05-07           DOG         NaN      UNKNOWN         NaN   \n",
       "3 1988-10-02           DOG         NaN         MALE   BLA & BRO   \n",
       "4 1989-08-29           DOG         NaN       FEMALE     BLK-WHT   \n",
       "\n",
       "   vaccination_yrs vaccination_date victim_zip AdvIssuedYNDesc  \\\n",
       "0              1.0       1985-06-20      40229              NO   \n",
       "1              NaN              NaT      40218              NO   \n",
       "2              NaN              NaT      40219              NO   \n",
       "3              NaN              NaT        NaN              NO   \n",
       "4              NaN              NaT        NaN              NO   \n",
       "\n",
       "  WhereBittenIDDesc quarantine_date DispositionIDDesc head_sent_date  \\\n",
       "0              BODY      1985-05-05           UNKNOWN            NaT   \n",
       "1              BODY      1986-02-12           UNKNOWN            NaT   \n",
       "2              BODY      1990-05-07           UNKNOWN            NaT   \n",
       "3              BODY      1990-10-02           UNKNOWN            NaT   \n",
       "4              BODY             NaT           UNKNOWN            NaT   \n",
       "\n",
       "  release_date ResultsIDDesc  \n",
       "0          NaT       UNKNOWN  \n",
       "1          NaT       UNKNOWN  \n",
       "2          NaT       UNKNOWN  \n",
       "3          NaT       UNKNOWN  \n",
       "4          NaT       UNKNOWN  "
      ]
     },
     "execution_count": 3,
     "metadata": {},
     "output_type": "execute_result"
    }
   ],
   "source": [
    "file = 'archive.zip'\n",
    "df = pd.read_csv(file, parse_dates = [0,6,10, 12,13])\n",
    "df['bite_date'] = df['bite_date'].str.replace('5013','2013') \n",
    "df['bite_date'] = pd.to_datetime(df['bite_date'], infer_datetime_format=True)\n",
    "wrong_items = ['2101-02-18','2020-08-08','2201-02-21','2201-02-21','2201-05-01','2021-04-22','1952-05-28','1952-08-05']\n",
    "corrected = ['2011-02-18','2012-08-08','2015-02-21','2015-02-21','2015-05-01','2012-04-22','2013-05-28','2015-08-05']\n",
    "df.replace({'bite_date':dict(zip(wrong_items,corrected))}, inplace = True)\n",
    "idx = df.loc[df['bite_date'].dt.year > 2018].index\n",
    "df.drop(idx, inplace = True)\n",
    "df.head()"
   ]
  },
  {
   "cell_type": "markdown",
   "metadata": {},
   "source": [
    "Check data out of time bound from 1985 to 2017.\n",
    "`bite_data` is cleaned"
   ]
  },
  {
   "cell_type": "code",
   "execution_count": 4,
   "metadata": {
    "scrolled": true
   },
   "outputs": [
    {
     "name": "stdout",
     "output_type": "stream",
     "text": [
      "Empty DataFrame\n",
      "Columns: [bite_date, SpeciesIDDesc, BreedIDDesc, GenderIDDesc, color, vaccination_yrs, vaccination_date, victim_zip, AdvIssuedYNDesc, WhereBittenIDDesc, quarantine_date, DispositionIDDesc, head_sent_date, release_date, ResultsIDDesc]\n",
      "Index: []\n"
     ]
    }
   ],
   "source": [
    "idx = df.loc[(df['bite_date'].dt.year < 1985) & (df['bite_date'].dt.year > 2017)].index\n",
    "idx_bf = idx - 1\n",
    "idx_aft = idx + 1\n",
    "idx = idx.union(idx_bf).union(idx_aft)\n",
    "print(df.iloc[idx])\n"
   ]
  },
  {
   "cell_type": "code",
   "execution_count": 5,
   "metadata": {
    "scrolled": false
   },
   "outputs": [
    {
     "name": "stdout",
     "output_type": "stream",
     "text": [
      "<class 'pandas.core.frame.DataFrame'>\n",
      "Int64Index: 9002 entries, 0 to 9002\n",
      "Data columns (total 15 columns):\n",
      " #   Column             Non-Null Count  Dtype         \n",
      "---  ------             --------------  -----         \n",
      " 0   bite_date          8685 non-null   datetime64[ns]\n",
      " 1   SpeciesIDDesc      8884 non-null   object        \n",
      " 2   BreedIDDesc        3759 non-null   object        \n",
      " 3   GenderIDDesc       6476 non-null   object        \n",
      " 4   color              6425 non-null   object        \n",
      " 5   vaccination_yrs    3738 non-null   float64       \n",
      " 6   vaccination_date   4115 non-null   datetime64[ns]\n",
      " 7   victim_zip         7165 non-null   object        \n",
      " 8   AdvIssuedYNDesc    2565 non-null   object        \n",
      " 9   WhereBittenIDDesc  8386 non-null   object        \n",
      " 10  quarantine_date    2020 non-null   datetime64[ns]\n",
      " 11  DispositionIDDesc  1535 non-null   object        \n",
      " 12  head_sent_date     395 non-null    datetime64[ns]\n",
      " 13  release_date       1445 non-null   datetime64[ns]\n",
      " 14  ResultsIDDesc      1543 non-null   object        \n",
      "dtypes: datetime64[ns](5), float64(1), object(9)\n",
      "memory usage: 1.1+ MB\n"
     ]
    }
   ],
   "source": [
    "df.info()"
   ]
  },
  {
   "cell_type": "code",
   "execution_count": 6,
   "metadata": {
    "scrolled": false
   },
   "outputs": [
    {
     "data": {
      "text/plain": [
       "bite_date            2694\n",
       "SpeciesIDDesc           9\n",
       "BreedIDDesc           101\n",
       "GenderIDDesc            3\n",
       "color                 712\n",
       "vaccination_yrs         4\n",
       "vaccination_date     2107\n",
       "victim_zip            233\n",
       "AdvIssuedYNDesc         2\n",
       "WhereBittenIDDesc       3\n",
       "quarantine_date       602\n",
       "DispositionIDDesc       4\n",
       "head_sent_date        325\n",
       "release_date          582\n",
       "ResultsIDDesc           3\n",
       "dtype: int64"
      ]
     },
     "execution_count": 6,
     "metadata": {},
     "output_type": "execute_result"
    }
   ],
   "source": [
    "df.nunique()"
   ]
  },
  {
   "cell_type": "markdown",
   "metadata": {},
   "source": [
    "## Zip codes have the most victims"
   ]
  },
  {
   "cell_type": "code",
   "execution_count": 7,
   "metadata": {
    "scrolled": true
   },
   "outputs": [
    {
     "data": {
      "image/png": "[encoded data removed]",
      "text/plain": [
       "<Figure size 432x288 with 1 Axes>"
      ]
     },
     "metadata": {
      "needs_background": "light"
     },
     "output_type": "display_data"
    }
   ],
   "source": [
    "df['victim_zip'].value_counts(ascending = True).tail(10).plot(kind = 'barh')\n",
    "plt.ylabel('Zip code')\n",
    "plt.xlabel('Victim counts')\n",
    "plt.title('Victims from zip code');"
   ]
  },
  {
   "cell_type": "markdown",
   "metadata": {},
   "source": [
    "## Zip code have the most bites have the highest probability of unvaccined animal bite"
   ]
  },
  {
   "cell_type": "code",
   "execution_count": 8,
   "metadata": {
    "scrolled": false
   },
   "outputs": [
    {
     "name": "stderr",
     "output_type": "stream",
     "text": [
      "C:\\anaconda\\lib\\site-packages\\pandas\\plotting\\_matplotlib\\core.py:1114: UserWarning: No data for colormapping provided via 'c'. Parameters 'cmap' will be ignored\n",
      "  scatter = ax.scatter(\n"
     ]
    },
    {
     "data": {
      "image/png": "[encoded data removed]",
      "text/plain": [
       "<Figure size 432x288 with 1 Axes>"
      ]
     },
     "metadata": {
      "needs_background": "light"
     },
     "output_type": "display_data"
    }
   ],
   "source": [
    "unknown_vac_zip_df = pd.DataFrame(df[df['vaccination_yrs'].isna() & df['vaccination_date'].isna()].dropna(axis = 1, how = 'all')['victim_zip'].value_counts())\n",
    "unknown_vac_zip_df.rename(columns = {'victim_zip':'unvac_bites'}, inplace = True)\n",
    "unknown_vac_zip_df\n",
    "victim_zip_df = pd.DataFrame(df['victim_zip'].value_counts())\n",
    "victim_zip_df.rename(columns = {'victim_zip':'victims_num'}, inplace = True)\n",
    "temp = victim_zip_df.merge(unknown_vac_zip_df, how = 'left', left_index = True, right_index = True)\n",
    "temp.plot(x = 'victims_num', y = 'unvac_bites',kind = 'scatter')\n",
    "plt.plot([0,400],[0,400],'--')\n",
    "plt.ylim((0,250))\n",
    "plt.title('Victims number versus unvaccined bites');"
   ]
  },
  {
   "cell_type": "markdown",
   "metadata": {},
   "source": [
    "## Animal's gender more likely to bite"
   ]
  },
  {
   "cell_type": "code",
   "execution_count": 9,
   "metadata": {},
   "outputs": [
    {
     "data": {
      "image/png": "[encoded data removed]",
      "text/plain": [
       "<Figure size 432x288 with 1 Axes>"
      ]
     },
     "metadata": {
      "needs_background": "light"
     },
     "output_type": "display_data"
    }
   ],
   "source": [
    "df.replace({'GenderIDDesc':'UNKNOWN'},np.nan, inplace = True)\n",
    "df['GenderIDDesc'].value_counts().plot(kind = 'bar')\n",
    "plt.ylabel('Bite counts')\n",
    "plt.title('Gender bite counts');\n",
    "# df['GenderIDDesc'].replace('UNKNOWN',np.nan, inplace = True)"
   ]
  },
  {
   "cell_type": "markdown",
   "metadata": {},
   "source": [
    "## Animals most likely to bite"
   ]
  },
  {
   "cell_type": "code",
   "execution_count": 10,
   "metadata": {
    "scrolled": true
   },
   "outputs": [
    {
     "data": {
      "image/png": "[encoded data removed]",
      "text/plain": [
       "<Figure size 432x288 with 1 Axes>"
      ]
     },
     "metadata": {
      "needs_background": "light"
     },
     "output_type": "display_data"
    }
   ],
   "source": [
    "df['SpeciesIDDesc'].value_counts().plot(kind = 'bar')\n",
    "plt.ylabel('Bite counts')\n",
    "plt.title('Animals most likely to bite');"
   ]
  },
  {
   "cell_type": "code",
   "execution_count": 11,
   "metadata": {},
   "outputs": [
    {
     "data": {
      "text/html": [
       "<div>\n",
       "<style scoped>\n",
       "    .dataframe tbody tr th:only-of-type {\n",
       "        vertical-align: middle;\n",
       "    }\n",
       "\n",
       "    .dataframe tbody tr th {\n",
       "        vertical-align: top;\n",
       "    }\n",
       "\n",
       "    .dataframe thead th {\n",
       "        text-align: right;\n",
       "    }\n",
       "</style>\n",
       "<table border=\"1\" class=\"dataframe\">\n",
       "  <thead>\n",
       "    <tr style=\"text-align: right;\">\n",
       "      <th></th>\n",
       "      <th>TotalNumber</th>\n",
       "    </tr>\n",
       "  </thead>\n",
       "  <tbody>\n",
       "    <tr>\n",
       "      <th>DOG</th>\n",
       "      <td>7029</td>\n",
       "    </tr>\n",
       "    <tr>\n",
       "      <th>CAT</th>\n",
       "      <td>1567</td>\n",
       "    </tr>\n",
       "    <tr>\n",
       "      <th>BAT</th>\n",
       "      <td>237</td>\n",
       "    </tr>\n",
       "    <tr>\n",
       "      <th>RACCOON</th>\n",
       "      <td>27</td>\n",
       "    </tr>\n",
       "    <tr>\n",
       "      <th>OTHER</th>\n",
       "      <td>11</td>\n",
       "    </tr>\n",
       "    <tr>\n",
       "      <th>HORSE</th>\n",
       "      <td>5</td>\n",
       "    </tr>\n",
       "    <tr>\n",
       "      <th>FERRET</th>\n",
       "      <td>4</td>\n",
       "    </tr>\n",
       "    <tr>\n",
       "      <th>RABBIT</th>\n",
       "      <td>3</td>\n",
       "    </tr>\n",
       "    <tr>\n",
       "      <th>SKUNK</th>\n",
       "      <td>1</td>\n",
       "    </tr>\n",
       "  </tbody>\n",
       "</table>\n",
       "</div>"
      ],
      "text/plain": [
       "         TotalNumber\n",
       "DOG             7029\n",
       "CAT             1567\n",
       "BAT              237\n",
       "RACCOON           27\n",
       "OTHER             11\n",
       "HORSE              5\n",
       "FERRET             4\n",
       "RABBIT             3\n",
       "SKUNK              1"
      ]
     },
     "execution_count": 11,
     "metadata": {},
     "output_type": "execute_result"
    }
   ],
   "source": [
    "Species_df = pd.DataFrame(df['SpeciesIDDesc'].value_counts()).rename(columns = {'SpeciesIDDesc': 'TotalNumber'})\n",
    "Species_df"
   ]
  },
  {
   "cell_type": "markdown",
   "metadata": {},
   "source": [
    "### Is `BreedIDDesc` only for `DOG`?\n",
    "\n",
    "No, 3 cases for `CAT`"
   ]
  },
  {
   "cell_type": "code",
   "execution_count": 12,
   "metadata": {
    "scrolled": true
   },
   "outputs": [
    {
     "name": "stdout",
     "output_type": "stream",
     "text": [
      "DOG    3755\n",
      "CAT       3\n",
      "Name: SpeciesIDDesc, dtype: int64\n",
      "6840     OTHER\n",
      "6872     OTHER\n",
      "8557    BEAGLE\n",
      "Name: BreedIDDesc, dtype: object\n"
     ]
    }
   ],
   "source": [
    "print(df.loc[~df['BreedIDDesc'].isna(),'SpeciesIDDesc'].value_counts())\n",
    "print(df.loc[ (df['SpeciesIDDesc']== 'CAT') & (~df['BreedIDDesc'].isna()),'BreedIDDesc'])"
   ]
  },
  {
   "cell_type": "markdown",
   "metadata": {},
   "source": [
    "## Dog breeds most likely to bite"
   ]
  },
  {
   "cell_type": "code",
   "execution_count": 13,
   "metadata": {},
   "outputs": [
    {
     "data": {
      "image/png": "[encoded data removed]",
      "text/plain": [
       "<Figure size 432x288 with 1 Axes>"
      ]
     },
     "metadata": {
      "needs_background": "light"
     },
     "output_type": "display_data"
    }
   ],
   "source": [
    "df.loc[df['SpeciesIDDesc'] == 'DOG','BreedIDDesc'].value_counts().head(5).plot(kind = 'bar')\n",
    "plt.ylabel('Bite counts')\n",
    "plt.title('Top 5 dog breeds likely to bite');"
   ]
  },
  {
   "cell_type": "code",
   "execution_count": 14,
   "metadata": {},
   "outputs": [
    {
     "data": {
      "text/plain": [
       "BODY    6213\n",
       "HEAD    1243\n",
       "Name: WhereBittenIDDesc, dtype: int64"
      ]
     },
     "execution_count": 14,
     "metadata": {},
     "output_type": "execute_result"
    }
   ],
   "source": [
    "df['WhereBittenIDDesc'].replace('UNKNOWN',np.nan, inplace = True)\n",
    "df['WhereBittenIDDesc'].value_counts()\n"
   ]
  },
  {
   "cell_type": "code",
   "execution_count": 17,
   "metadata": {
    "scrolled": false
   },
   "outputs": [
    {
     "name": "stdout",
     "output_type": "stream",
     "text": [
      "NEGATIVE    299\n",
      "POSITIVE      4\n",
      "Name: ResultsIDDesc, dtype: int64\n"
     ]
    }
   ],
   "source": [
    "df['ResultsIDDesc'].replace('UNKNOWN',np.nan, inplace = True)\n",
    "print(df['ResultsIDDesc'].value_counts())"
   ]
  },
  {
   "cell_type": "markdown",
   "metadata": {},
   "source": [
    "## RABID POSITIVE"
   ]
  },
  {
   "cell_type": "code",
   "execution_count": 18,
   "metadata": {},
   "outputs": [
    {
     "data": {
      "text/html": [
       "<div>\n",
       "<style scoped>\n",
       "    .dataframe tbody tr th:only-of-type {\n",
       "        vertical-align: middle;\n",
       "    }\n",
       "\n",
       "    .dataframe tbody tr th {\n",
       "        vertical-align: top;\n",
       "    }\n",
       "\n",
       "    .dataframe thead th {\n",
       "        text-align: right;\n",
       "    }\n",
       "</style>\n",
       "<table border=\"1\" class=\"dataframe\">\n",
       "  <thead>\n",
       "    <tr style=\"text-align: right;\">\n",
       "      <th></th>\n",
       "      <th>SpeciesIDDesc</th>\n",
       "      <th>victim_zip</th>\n",
       "      <th>head_sent_date</th>\n",
       "      <th>ResultsIDDesc</th>\n",
       "    </tr>\n",
       "  </thead>\n",
       "  <tbody>\n",
       "    <tr>\n",
       "      <th>1418</th>\n",
       "      <td>BAT</td>\n",
       "      <td>40203</td>\n",
       "      <td>2015-05-05</td>\n",
       "      <td>POSITIVE</td>\n",
       "    </tr>\n",
       "    <tr>\n",
       "      <th>1502</th>\n",
       "      <td>DOG</td>\n",
       "      <td>40210</td>\n",
       "      <td>2017-05-01</td>\n",
       "      <td>POSITIVE</td>\n",
       "    </tr>\n",
       "    <tr>\n",
       "      <th>1677</th>\n",
       "      <td>BAT</td>\n",
       "      <td>40207</td>\n",
       "      <td>2016-07-10</td>\n",
       "      <td>POSITIVE</td>\n",
       "    </tr>\n",
       "    <tr>\n",
       "      <th>1678</th>\n",
       "      <td>BAT</td>\n",
       "      <td>40214</td>\n",
       "      <td>2016-07-29</td>\n",
       "      <td>POSITIVE</td>\n",
       "    </tr>\n",
       "  </tbody>\n",
       "</table>\n",
       "</div>"
      ],
      "text/plain": [
       "     SpeciesIDDesc victim_zip head_sent_date ResultsIDDesc\n",
       "1418           BAT      40203     2015-05-05      POSITIVE\n",
       "1502           DOG      40210     2017-05-01      POSITIVE\n",
       "1677           BAT      40207     2016-07-10      POSITIVE\n",
       "1678           BAT      40214     2016-07-29      POSITIVE"
      ]
     },
     "execution_count": 18,
     "metadata": {},
     "output_type": "execute_result"
    }
   ],
   "source": [
    "df[df['ResultsIDDesc'] == 'POSITIVE'].dropna(axis = 1)"
   ]
  },
  {
   "cell_type": "code",
   "execution_count": 19,
   "metadata": {},
   "outputs": [
    {
     "data": {
      "image/png": "[encoded data removed]",
      "text/plain": [
       "<Figure size 432x288 with 1 Axes>"
      ]
     },
     "metadata": {
      "needs_background": "light"
     },
     "output_type": "display_data"
    }
   ],
   "source": [
    "rabies_pos_df = pd.DataFrame(df.loc[df['ResultsIDDesc'] == 'POSITIVE','SpeciesIDDesc'].value_counts())\n",
    "rabies_pos_df = rabies_pos_df.merge(Species_df, how = 'left',left_index = True, right_index = True)\n",
    "rabies_pos_df['Prob_rabies_postive'] = rabies_pos_df['SpeciesIDDesc'] / rabies_pos_df['TotalNumber']\n",
    "rabies_pos_df['Prob_rabies_postive'].plot(kind = 'bar')\n",
    "chance = round(rabies_pos_df.loc['BAT','Prob_rabies_postive']/ rabies_pos_df.loc['DOG','Prob_rabies_postive'])\n",
    "plt.ylabel('Probability' )\n",
    "plt.text( 0.4,0.005, str(chance) +  ' times difference!')\n",
    "plt.title('Probabilities of rabies test positive when bitten by');"
   ]
  },
  {
   "cell_type": "code",
   "execution_count": 20,
   "metadata": {},
   "outputs": [
    {
     "data": {
      "text/html": [
       "<img src=\"https://scontent-hou1-1.xx.fbcdn.net/v/t1.6435-9/82765238_10157928681875135_1057307797361786880_n.jpg?stp=dst-jpg_s960x960&_nc_cat=104&ccb=1-7&_nc_sid=9267fe&_nc_ohc=mXwy7I9NeB8AX9PIzcq&_nc_ht=scontent-hou1-1.xx&oh=00_AT9ZQfEoxaPTQ3qO1gKX2Y6DVlKOurjXgtJDsU3fhniQsQ&oe=634C3B11\"/>"
      ],
      "text/plain": [
       "<IPython.core.display.Image object>"
      ]
     },
     "execution_count": 20,
     "metadata": {},
     "output_type": "execute_result"
    }
   ],
   "source": [
    "Image(url = \"https://scontent-hou1-1.xx.fbcdn.net/v/t1.6435-9/82765238_10157928681875135_1057307797361786880_n.jpg?stp=dst-jpg_s960x960&_nc_cat=104&ccb=1-7&_nc_sid=9267fe&_nc_ohc=mXwy7I9NeB8AX9PIzcq&_nc_ht=scontent-hou1-1.xx&oh=00_AT9ZQfEoxaPTQ3qO1gKX2Y6DVlKOurjXgtJDsU3fhniQsQ&oe=634C3B11\")"
   ]
  },
  {
   "cell_type": "markdown",
   "metadata": {},
   "source": [
    "## Animal attached head"
   ]
  },
  {
   "cell_type": "code",
   "execution_count": 21,
   "metadata": {},
   "outputs": [
    {
     "name": "stderr",
     "output_type": "stream",
     "text": [
      "C:\\anaconda\\lib\\site-packages\\seaborn\\_decorators.py:36: FutureWarning: Pass the following variable as a keyword arg: x. From version 0.12, the only valid positional argument will be `data`, and passing other arguments without an explicit keyword will result in an error or misinterpretation.\n",
      "  warnings.warn(\n"
     ]
    },
    {
     "data": {
      "image/png": "[encoded data removed]",
      "text/plain": [
       "<Figure size 432x288 with 1 Axes>"
      ]
     },
     "metadata": {
      "needs_background": "light"
     },
     "output_type": "display_data"
    }
   ],
   "source": [
    "sns.countplot(df.loc[df['WhereBittenIDDesc']=='HEAD','SpeciesIDDesc'])\n",
    "plt.title('Animals attacking head');"
   ]
  },
  {
   "cell_type": "code",
   "execution_count": 24,
   "metadata": {
    "scrolled": false
   },
   "outputs": [
    {
     "data": {
      "image/png": "[encoded data removed]",
      "text/plain": [
       "<Figure size 432x288 with 1 Axes>"
      ]
     },
     "metadata": {
      "needs_background": "light"
     },
     "output_type": "display_data"
    }
   ],
   "source": [
    "AttackHead_df = pd.DataFrame(df.loc[df['WhereBittenIDDesc']=='HEAD','SpeciesIDDesc'].value_counts()).rename(columns = {'SpeciesIDDesc':'BiteHeadCount'})\n",
    "AttackHead_df = AttackHead_df.merge(Species_df, how = 'left',left_index = True, right_index = True)\n",
    "AttackHead_df['Prob_attack_head'] = AttackHead_df['BiteHeadCount'] / AttackHead_df['TotalNumber']\n",
    "AttackHead_df['Prob_attack_head'].sort_values(ascending = False).plot(kind = 'bar')\n",
    "plt.ylabel('Probability')\n",
    "plt.title('Probabilities of animal bite head');"
   ]
  },
  {
   "cell_type": "markdown",
   "metadata": {},
   "source": [
    "Tendency of biting head is correlated to animal's height"
   ]
  },
  {
   "cell_type": "markdown",
   "metadata": {},
   "source": [
    "# Summary"
   ]
  },
  {
   "cell_type": "markdown",
   "metadata": {},
   "source": [
    "* There are zip code with high probabilites of being bitten. Why? Environment? or wildlife?\n",
    "* DOG bite occurs most, and Pit bull is the species bite most\n",
    "* Get a test ASAP to stop rabies when bitten by a bat. 90 times higher chance to test positive\n",
    "* The probability of attacking head is correlated to animal's size or height."
   ]
  },
  {
   "cell_type": "code",
   "execution_count": null,
   "metadata": {},
   "outputs": [],
   "source": []
  }
 ],
 "metadata": {
  "kernelspec": {
   "display_name": "Python 3",
   "language": "python",
   "name": "python3"
  },
  "language_info": {
   "codemirror_mode": {
    "name": "ipython",
    "version": 3
   },
   "file_extension": ".py",
   "mimetype": "text/x-python",
   "name": "python",
   "nbconvert_exporter": "python",
   "pygments_lexer": "ipython3",
   "version": "3.8.3"
  }
 },
 "nbformat": 4,
 "nbformat_minor": 4
}
